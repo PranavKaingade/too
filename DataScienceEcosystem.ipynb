{
 "cells": [
  {
   "cell_type": "markdown",
   "id": "5f1da9c8-2fac-42fb-889b-4b0f8f8cba56",
   "metadata": {},
   "source": [
    "# Data Science Tools and Ecosystem"
   ]
  },
  {
   "cell_type": "markdown",
   "id": "ae5640c6-9fa8-47b9-84e2-a25f3607e577",
   "metadata": {},
   "source": [
    "In this notebook, Data Science Tools and Ecosystem are summarized."
   ]
  },
  {
   "cell_type": "markdown",
   "id": "6f7e97b0-9ff3-4cf5-8aff-a9dd783328cd",
   "metadata": {},
   "source": [
    "Objectives:\n",
    "+ Python\n",
    "+ R\n",
    "+ SQL"
   ]
  },
  {
   "cell_type": "markdown",
   "id": "2baf9f7d-a4e6-40d7-8f2c-e4fe43abac76",
   "metadata": {},
   "source": [
    "Some of the popular languages that Data Scientists use are:"
   ]
  },
  {
   "cell_type": "markdown",
   "id": "49ae88d4-d48f-4e31-a69f-754be0237dd5",
   "metadata": {},
   "source": [
    "1.Python\n",
    "2.SQL\n",
    "3.R\n",
    "4.SCALA"
   ]
  },
  {
   "cell_type": "markdown",
   "id": "f89a4d94-43ce-4c2f-9d83-fc5d5303922a",
   "metadata": {},
   "source": [
    "Some of the commonly used libraries used by Data Scientists include:"
   ]
  },
  {
   "cell_type": "markdown",
   "id": "d812a9a9-faa2-4309-b273-b22b8fce8ab8",
   "metadata": {},
   "source": [
    "1.Pandas\n",
    "2.NumPy\n",
    "3.Matplotlib\n",
    "4.Keras"
   ]
  },
  {
   "cell_type": "markdown",
   "id": "48e870c3-1c7a-4a25-9d0d-249832120d71",
   "metadata": {},
   "source": [
    "| Data Science Tools |\n",
    "| -------------|\n",
    "| MySQL |\n",
    "| MongoDB |\n",
    "| PostgreSQL |"
   ]
  },
  {
   "cell_type": "markdown",
   "id": "e18a9de6-1541-4671-8b8d-3df2692f3caf",
   "metadata": {},
   "source": [
    "### Below are a few examples of evaluating arithmetic expressions in Python"
   ]
  },
  {
   "cell_type": "code",
   "execution_count": 15,
   "id": "8977ade2-713f-4a0f-8fb9-dabbad94a5f0",
   "metadata": {
    "tags": []
   },
   "outputs": [
    {
     "data": {
      "text/plain": [
       "17"
      ]
     },
     "execution_count": 15,
     "metadata": {},
     "output_type": "execute_result"
    }
   ],
   "source": [
    "(3*4)+5 #This a simple arithmetic expression to mutiply then add integers"
   ]
  },
  {
   "cell_type": "code",
   "execution_count": 16,
   "id": "62d069c2-233b-48f7-8b8a-dfad87550dd1",
   "metadata": {
    "tags": []
   },
   "outputs": [
    {
     "data": {
      "text/plain": [
       "3.3333333333333335"
      ]
     },
     "execution_count": 16,
     "metadata": {},
     "output_type": "execute_result"
    }
   ],
   "source": [
    "200/60\n",
    "#This will convert 200 minutes to hours by diving by 60"
   ]
  },
  {
   "cell_type": "markdown",
   "id": "51de0729-0f65-4119-ae68-ae3623fe7d68",
   "metadata": {},
   "source": [
    "## Author\n",
    "Pranav Kaingade"
   ]
  },
  {
   "cell_type": "code",
   "execution_count": null,
   "id": "0c5227bd-1d4e-4394-af37-ef5af1e6d19a",
   "metadata": {},
   "outputs": [],
   "source": []
  }
 ],
 "metadata": {
  "kernelspec": {
   "display_name": "Python",
   "language": "python",
   "name": "conda-env-python-py"
  },
  "language_info": {
   "codemirror_mode": {
    "name": "ipython",
    "version": 3
   },
   "file_extension": ".py",
   "mimetype": "text/x-python",
   "name": "python",
   "nbconvert_exporter": "python",
   "pygments_lexer": "ipython3",
   "version": "3.7.12"
  }
 },
 "nbformat": 4,
 "nbformat_minor": 5
}
